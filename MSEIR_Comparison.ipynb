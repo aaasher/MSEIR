{
 "cells": [
  {
   "cell_type": "code",
   "execution_count": 13,
   "metadata": {},
   "outputs": [],
   "source": [
    "import numpy as np\n",
    "import pandas as pd\n",
    "import matplotlib.pyplot as plt\n",
    "from datetime import datetime\n",
    "from datetime import timedelta\n",
    "from timeit import default_timer as timer\n",
    "from scipy.integrate import simps\n",
    "from plotly.subplots import make_subplots\n",
    "import plotly.graph_objects as go\n",
    "\n",
    "from gekko import GEKKO\n",
    "from MSEIR import MSEIR\n",
    "\n"
   ]
  },
  {
   "cell_type": "code",
   "execution_count": 14,
   "metadata": {},
   "outputs": [],
   "source": [
    "city_args = {'n_periods': 200, 'N': 100000,\n",
    "               'R_0': 2.0, 'tLat': 2, 'tInf': 2, 'tHosp': 2,\n",
    "               'pMild': 0.90, 'pFatal': 0.20, 'pOvf':0.20,\n",
    "               'Q': 200, 'S0': 100000-1,\n",
    "               'E0': 0, 'I0': 1, 'H0': 0, 'R0': 0, 'D0': 0}"
   ]
  },
  {
   "cell_type": "markdown",
   "metadata": {},
   "source": [
    "### Gekko model"
   ]
  },
  {
   "cell_type": "code",
   "execution_count": 15,
   "metadata": {},
   "outputs": [
    {
     "ename": "ImportError",
     "evalue": "No solution or server unreachable.\n  Show errors with m.solve(disp=True).\n  Try local solve with m=GEKKO(remote=False).",
     "output_type": "error",
     "traceback": [
      "\u001b[0;31m---------------------------------------------------------------------------\u001b[0m",
      "\u001b[0;31mRemoteDisconnected\u001b[0m                        Traceback (most recent call last)",
      "\u001b[0;32m/opt/anaconda3/lib/python3.7/site-packages/gekko/gekko.py\u001b[0m in \u001b[0;36msolve\u001b[0;34m(self, disp, debug, GUI, **kwargs)\u001b[0m\n\u001b[1;32m   2112\u001b[0m             \u001b[0;32mtry\u001b[0m\u001b[0;34m:\u001b[0m\u001b[0;34m\u001b[0m\u001b[0;34m\u001b[0m\u001b[0m\n\u001b[0;32m-> 2113\u001b[0;31m                 \u001b[0mresults\u001b[0m \u001b[0;34m=\u001b[0m \u001b[0mbyte2str\u001b[0m\u001b[0;34m(\u001b[0m\u001b[0mget_file\u001b[0m\u001b[0;34m(\u001b[0m\u001b[0mself\u001b[0m\u001b[0;34m.\u001b[0m\u001b[0m_server\u001b[0m\u001b[0;34m,\u001b[0m\u001b[0mself\u001b[0m\u001b[0;34m.\u001b[0m\u001b[0m_model_name\u001b[0m\u001b[0;34m,\u001b[0m\u001b[0;34m'results.json'\u001b[0m\u001b[0;34m)\u001b[0m\u001b[0;34m)\u001b[0m\u001b[0;34m\u001b[0m\u001b[0;34m\u001b[0m\u001b[0m\n\u001b[0m\u001b[1;32m   2114\u001b[0m                 \u001b[0mf\u001b[0m \u001b[0;34m=\u001b[0m \u001b[0mopen\u001b[0m\u001b[0;34m(\u001b[0m\u001b[0mos\u001b[0m\u001b[0;34m.\u001b[0m\u001b[0mpath\u001b[0m\u001b[0;34m.\u001b[0m\u001b[0mjoin\u001b[0m\u001b[0;34m(\u001b[0m\u001b[0mself\u001b[0m\u001b[0;34m.\u001b[0m\u001b[0m_path\u001b[0m\u001b[0;34m,\u001b[0m\u001b[0;34m'results.json'\u001b[0m\u001b[0;34m)\u001b[0m\u001b[0;34m,\u001b[0m \u001b[0;34m'w'\u001b[0m\u001b[0;34m)\u001b[0m\u001b[0;34m\u001b[0m\u001b[0;34m\u001b[0m\u001b[0m\n",
      "\u001b[0;32m/opt/anaconda3/lib/python3.7/site-packages/gekko/apm.py\u001b[0m in \u001b[0;36mget_file\u001b[0;34m(server, app, filename)\u001b[0m\n\u001b[1;32m    153\u001b[0m         \u001b[0;31m# Retrieve IP address\u001b[0m\u001b[0;34m\u001b[0m\u001b[0;34m\u001b[0m\u001b[0;34m\u001b[0m\u001b[0m\n\u001b[0;32m--> 154\u001b[0;31m         \u001b[0mip\u001b[0m \u001b[0;34m=\u001b[0m \u001b[0mget_ip\u001b[0m\u001b[0;34m(\u001b[0m\u001b[0mserver\u001b[0m\u001b[0;34m)\u001b[0m\u001b[0;34m\u001b[0m\u001b[0;34m\u001b[0m\u001b[0m\n\u001b[0m\u001b[1;32m    155\u001b[0m \u001b[0;34m\u001b[0m\u001b[0m\n",
      "\u001b[0;32m/opt/anaconda3/lib/python3.7/site-packages/gekko/apm.py\u001b[0m in \u001b[0;36mget_ip\u001b[0;34m(server)\u001b[0m\n\u001b[1;32m    143\u001b[0m         \u001b[0murl_base\u001b[0m \u001b[0;34m=\u001b[0m \u001b[0mserver\u001b[0m\u001b[0;34m.\u001b[0m\u001b[0mstrip\u001b[0m\u001b[0;34m(\u001b[0m\u001b[0;34m)\u001b[0m \u001b[0;34m+\u001b[0m \u001b[0;34m'/ip.php'\u001b[0m\u001b[0;34m\u001b[0m\u001b[0;34m\u001b[0m\u001b[0m\n\u001b[0;32m--> 144\u001b[0;31m         \u001b[0mf\u001b[0m \u001b[0;34m=\u001b[0m \u001b[0murllib\u001b[0m\u001b[0;34m.\u001b[0m\u001b[0mrequest\u001b[0m\u001b[0;34m.\u001b[0m\u001b[0murlopen\u001b[0m\u001b[0;34m(\u001b[0m\u001b[0murl_base\u001b[0m\u001b[0;34m)\u001b[0m\u001b[0;34m\u001b[0m\u001b[0;34m\u001b[0m\u001b[0m\n\u001b[0m\u001b[1;32m    145\u001b[0m         \u001b[0mfip\u001b[0m \u001b[0;34m=\u001b[0m \u001b[0mf\u001b[0m\u001b[0;34m.\u001b[0m\u001b[0mread\u001b[0m\u001b[0;34m(\u001b[0m\u001b[0;34m)\u001b[0m\u001b[0;34m\u001b[0m\u001b[0;34m\u001b[0m\u001b[0m\n",
      "\u001b[0;32m/opt/anaconda3/lib/python3.7/urllib/request.py\u001b[0m in \u001b[0;36murlopen\u001b[0;34m(url, data, timeout, cafile, capath, cadefault, context)\u001b[0m\n\u001b[1;32m    221\u001b[0m         \u001b[0mopener\u001b[0m \u001b[0;34m=\u001b[0m \u001b[0m_opener\u001b[0m\u001b[0;34m\u001b[0m\u001b[0;34m\u001b[0m\u001b[0m\n\u001b[0;32m--> 222\u001b[0;31m     \u001b[0;32mreturn\u001b[0m \u001b[0mopener\u001b[0m\u001b[0;34m.\u001b[0m\u001b[0mopen\u001b[0m\u001b[0;34m(\u001b[0m\u001b[0murl\u001b[0m\u001b[0;34m,\u001b[0m \u001b[0mdata\u001b[0m\u001b[0;34m,\u001b[0m \u001b[0mtimeout\u001b[0m\u001b[0;34m)\u001b[0m\u001b[0;34m\u001b[0m\u001b[0;34m\u001b[0m\u001b[0m\n\u001b[0m\u001b[1;32m    223\u001b[0m \u001b[0;34m\u001b[0m\u001b[0m\n",
      "\u001b[0;32m/opt/anaconda3/lib/python3.7/urllib/request.py\u001b[0m in \u001b[0;36mopen\u001b[0;34m(self, fullurl, data, timeout)\u001b[0m\n\u001b[1;32m    524\u001b[0m \u001b[0;34m\u001b[0m\u001b[0m\n\u001b[0;32m--> 525\u001b[0;31m         \u001b[0mresponse\u001b[0m \u001b[0;34m=\u001b[0m \u001b[0mself\u001b[0m\u001b[0;34m.\u001b[0m\u001b[0m_open\u001b[0m\u001b[0;34m(\u001b[0m\u001b[0mreq\u001b[0m\u001b[0;34m,\u001b[0m \u001b[0mdata\u001b[0m\u001b[0;34m)\u001b[0m\u001b[0;34m\u001b[0m\u001b[0;34m\u001b[0m\u001b[0m\n\u001b[0m\u001b[1;32m    526\u001b[0m \u001b[0;34m\u001b[0m\u001b[0m\n",
      "\u001b[0;32m/opt/anaconda3/lib/python3.7/urllib/request.py\u001b[0m in \u001b[0;36m_open\u001b[0;34m(self, req, data)\u001b[0m\n\u001b[1;32m    542\u001b[0m         result = self._call_chain(self.handle_open, protocol, protocol +\n\u001b[0;32m--> 543\u001b[0;31m                                   '_open', req)\n\u001b[0m\u001b[1;32m    544\u001b[0m         \u001b[0;32mif\u001b[0m \u001b[0mresult\u001b[0m\u001b[0;34m:\u001b[0m\u001b[0;34m\u001b[0m\u001b[0;34m\u001b[0m\u001b[0m\n",
      "\u001b[0;32m/opt/anaconda3/lib/python3.7/urllib/request.py\u001b[0m in \u001b[0;36m_call_chain\u001b[0;34m(self, chain, kind, meth_name, *args)\u001b[0m\n\u001b[1;32m    502\u001b[0m             \u001b[0mfunc\u001b[0m \u001b[0;34m=\u001b[0m \u001b[0mgetattr\u001b[0m\u001b[0;34m(\u001b[0m\u001b[0mhandler\u001b[0m\u001b[0;34m,\u001b[0m \u001b[0mmeth_name\u001b[0m\u001b[0;34m)\u001b[0m\u001b[0;34m\u001b[0m\u001b[0;34m\u001b[0m\u001b[0m\n\u001b[0;32m--> 503\u001b[0;31m             \u001b[0mresult\u001b[0m \u001b[0;34m=\u001b[0m \u001b[0mfunc\u001b[0m\u001b[0;34m(\u001b[0m\u001b[0;34m*\u001b[0m\u001b[0margs\u001b[0m\u001b[0;34m)\u001b[0m\u001b[0;34m\u001b[0m\u001b[0;34m\u001b[0m\u001b[0m\n\u001b[0m\u001b[1;32m    504\u001b[0m             \u001b[0;32mif\u001b[0m \u001b[0mresult\u001b[0m \u001b[0;32mis\u001b[0m \u001b[0;32mnot\u001b[0m \u001b[0;32mNone\u001b[0m\u001b[0;34m:\u001b[0m\u001b[0;34m\u001b[0m\u001b[0;34m\u001b[0m\u001b[0m\n",
      "\u001b[0;32m/opt/anaconda3/lib/python3.7/urllib/request.py\u001b[0m in \u001b[0;36mhttp_open\u001b[0;34m(self, req)\u001b[0m\n\u001b[1;32m   1346\u001b[0m     \u001b[0;32mdef\u001b[0m \u001b[0mhttp_open\u001b[0m\u001b[0;34m(\u001b[0m\u001b[0mself\u001b[0m\u001b[0;34m,\u001b[0m \u001b[0mreq\u001b[0m\u001b[0;34m)\u001b[0m\u001b[0;34m:\u001b[0m\u001b[0;34m\u001b[0m\u001b[0;34m\u001b[0m\u001b[0m\n\u001b[0;32m-> 1347\u001b[0;31m         \u001b[0;32mreturn\u001b[0m \u001b[0mself\u001b[0m\u001b[0;34m.\u001b[0m\u001b[0mdo_open\u001b[0m\u001b[0;34m(\u001b[0m\u001b[0mhttp\u001b[0m\u001b[0;34m.\u001b[0m\u001b[0mclient\u001b[0m\u001b[0;34m.\u001b[0m\u001b[0mHTTPConnection\u001b[0m\u001b[0;34m,\u001b[0m \u001b[0mreq\u001b[0m\u001b[0;34m)\u001b[0m\u001b[0;34m\u001b[0m\u001b[0;34m\u001b[0m\u001b[0m\n\u001b[0m\u001b[1;32m   1348\u001b[0m \u001b[0;34m\u001b[0m\u001b[0m\n",
      "\u001b[0;32m/opt/anaconda3/lib/python3.7/urllib/request.py\u001b[0m in \u001b[0;36mdo_open\u001b[0;34m(self, http_class, req, **http_conn_args)\u001b[0m\n\u001b[1;32m   1321\u001b[0m                 \u001b[0;32mraise\u001b[0m \u001b[0mURLError\u001b[0m\u001b[0;34m(\u001b[0m\u001b[0merr\u001b[0m\u001b[0;34m)\u001b[0m\u001b[0;34m\u001b[0m\u001b[0;34m\u001b[0m\u001b[0m\n\u001b[0;32m-> 1322\u001b[0;31m             \u001b[0mr\u001b[0m \u001b[0;34m=\u001b[0m \u001b[0mh\u001b[0m\u001b[0;34m.\u001b[0m\u001b[0mgetresponse\u001b[0m\u001b[0;34m(\u001b[0m\u001b[0;34m)\u001b[0m\u001b[0;34m\u001b[0m\u001b[0;34m\u001b[0m\u001b[0m\n\u001b[0m\u001b[1;32m   1323\u001b[0m         \u001b[0;32mexcept\u001b[0m\u001b[0;34m:\u001b[0m\u001b[0;34m\u001b[0m\u001b[0;34m\u001b[0m\u001b[0m\n",
      "\u001b[0;32m/opt/anaconda3/lib/python3.7/http/client.py\u001b[0m in \u001b[0;36mgetresponse\u001b[0;34m(self)\u001b[0m\n\u001b[1;32m   1343\u001b[0m             \u001b[0;32mtry\u001b[0m\u001b[0;34m:\u001b[0m\u001b[0;34m\u001b[0m\u001b[0;34m\u001b[0m\u001b[0m\n\u001b[0;32m-> 1344\u001b[0;31m                 \u001b[0mresponse\u001b[0m\u001b[0;34m.\u001b[0m\u001b[0mbegin\u001b[0m\u001b[0;34m(\u001b[0m\u001b[0;34m)\u001b[0m\u001b[0;34m\u001b[0m\u001b[0;34m\u001b[0m\u001b[0m\n\u001b[0m\u001b[1;32m   1345\u001b[0m             \u001b[0;32mexcept\u001b[0m \u001b[0mConnectionError\u001b[0m\u001b[0;34m:\u001b[0m\u001b[0;34m\u001b[0m\u001b[0;34m\u001b[0m\u001b[0m\n",
      "\u001b[0;32m/opt/anaconda3/lib/python3.7/http/client.py\u001b[0m in \u001b[0;36mbegin\u001b[0;34m(self)\u001b[0m\n\u001b[1;32m    305\u001b[0m         \u001b[0;32mwhile\u001b[0m \u001b[0;32mTrue\u001b[0m\u001b[0;34m:\u001b[0m\u001b[0;34m\u001b[0m\u001b[0;34m\u001b[0m\u001b[0m\n\u001b[0;32m--> 306\u001b[0;31m             \u001b[0mversion\u001b[0m\u001b[0;34m,\u001b[0m \u001b[0mstatus\u001b[0m\u001b[0;34m,\u001b[0m \u001b[0mreason\u001b[0m \u001b[0;34m=\u001b[0m \u001b[0mself\u001b[0m\u001b[0;34m.\u001b[0m\u001b[0m_read_status\u001b[0m\u001b[0;34m(\u001b[0m\u001b[0;34m)\u001b[0m\u001b[0;34m\u001b[0m\u001b[0;34m\u001b[0m\u001b[0m\n\u001b[0m\u001b[1;32m    307\u001b[0m             \u001b[0;32mif\u001b[0m \u001b[0mstatus\u001b[0m \u001b[0;34m!=\u001b[0m \u001b[0mCONTINUE\u001b[0m\u001b[0;34m:\u001b[0m\u001b[0;34m\u001b[0m\u001b[0;34m\u001b[0m\u001b[0m\n",
      "\u001b[0;32m/opt/anaconda3/lib/python3.7/http/client.py\u001b[0m in \u001b[0;36m_read_status\u001b[0;34m(self)\u001b[0m\n\u001b[1;32m    274\u001b[0m             \u001b[0;31m# sending a valid response.\u001b[0m\u001b[0;34m\u001b[0m\u001b[0;34m\u001b[0m\u001b[0;34m\u001b[0m\u001b[0m\n\u001b[0;32m--> 275\u001b[0;31m             raise RemoteDisconnected(\"Remote end closed connection without\"\n\u001b[0m\u001b[1;32m    276\u001b[0m                                      \" response\")\n",
      "\u001b[0;31mRemoteDisconnected\u001b[0m: Remote end closed connection without response",
      "\nDuring handling of the above exception, another exception occurred:\n",
      "\u001b[0;31mImportError\u001b[0m                               Traceback (most recent call last)",
      "\u001b[0;32m<ipython-input-15-0d3f72469213>\u001b[0m in \u001b[0;36m<module>\u001b[0;34m\u001b[0m\n\u001b[1;32m     46\u001b[0m \u001b[0mm\u001b[0m\u001b[0;34m.\u001b[0m\u001b[0moptions\u001b[0m\u001b[0;34m.\u001b[0m\u001b[0mIMODE\u001b[0m\u001b[0;34m=\u001b[0m\u001b[0;36m7\u001b[0m\u001b[0;34m\u001b[0m\u001b[0;34m\u001b[0m\u001b[0m\n\u001b[1;32m     47\u001b[0m \u001b[0mm\u001b[0m\u001b[0;34m.\u001b[0m\u001b[0moptions\u001b[0m\u001b[0;34m.\u001b[0m\u001b[0mNODES\u001b[0m\u001b[0;34m=\u001b[0m\u001b[0;36m3\u001b[0m\u001b[0;34m\u001b[0m\u001b[0;34m\u001b[0m\u001b[0m\n\u001b[0;32m---> 48\u001b[0;31m \u001b[0mm\u001b[0m\u001b[0;34m.\u001b[0m\u001b[0msolve\u001b[0m\u001b[0;34m(\u001b[0m\u001b[0mdisp\u001b[0m\u001b[0;34m=\u001b[0m\u001b[0;32mFalse\u001b[0m\u001b[0;34m)\u001b[0m\u001b[0;34m\u001b[0m\u001b[0;34m\u001b[0m\u001b[0m\n\u001b[0m",
      "\u001b[0;32m/opt/anaconda3/lib/python3.7/site-packages/gekko/gekko.py\u001b[0m in \u001b[0;36msolve\u001b[0;34m(self, disp, debug, GUI, **kwargs)\u001b[0m\n\u001b[1;32m   2129\u001b[0m             \u001b[0;32mexcept\u001b[0m\u001b[0;34m:\u001b[0m\u001b[0;34m\u001b[0m\u001b[0;34m\u001b[0m\u001b[0m\n\u001b[1;32m   2130\u001b[0m                 raise ImportError('No solution or server unreachable.\\n'+\\\n\u001b[0;32m-> 2131\u001b[0;31m                                   \u001b[0;34m'  Show errors with m.solve(disp=True).\\n'\u001b[0m\u001b[0;34m+\u001b[0m\u001b[0;31m\\\u001b[0m\u001b[0;34m\u001b[0m\u001b[0;34m\u001b[0m\u001b[0m\n\u001b[0m\u001b[1;32m   2132\u001b[0m                                   '  Try local solve with m=GEKKO(remote=False).')\n\u001b[1;32m   2133\u001b[0m \u001b[0;34m\u001b[0m\u001b[0m\n",
      "\u001b[0;31mImportError\u001b[0m: No solution or server unreachable.\n  Show errors with m.solve(disp=True).\n  Try local solve with m=GEKKO(remote=False)."
     ]
    }
   ],
   "source": [
    "\n",
    "tLat = city_args['tLat']\n",
    "tInf = city_args['tInf']\n",
    "tHosp = city_args['tHosp']\n",
    "\n",
    "pMild = city_args['pMild']\n",
    "pFatal= city_args['pFatal']\n",
    "\n",
    "R0 = city_args['R_0']\n",
    "N = city_args['N']\n",
    "\n",
    "beta = R0/tInf\n",
    "\n",
    "# fraction of infected and recovered individuals\n",
    "e_initial = city_args['E0']\n",
    "i_initial = city_args['I0']\n",
    "h_initial = city_args['H0']\n",
    "r_initial = city_args['R0']\n",
    "d_initial = city_args['D0']\n",
    "s_initial = city_args['S0']\n",
    "\n",
    "m = GEKKO()\n",
    "u = m.MV(0,lb=0.0,ub=0.8)\n",
    "\n",
    "s,e,i,h,r,d = m.Array(m.Var,6)\n",
    "\n",
    "s.value = s_initial\n",
    "e.value = e_initial\n",
    "i.value = i_initial\n",
    "h.value = h_initial\n",
    "r.value = r_initial\n",
    "d.value = d_initial\n",
    "\n",
    "m.Equations([s.dt()== -(1 - u)*beta*s*i/N,\\\n",
    "             e.dt()== (1 - u)*beta*s*i/N - e/tLat,\\\n",
    "             i.dt()== e/tLat - i/tInf,\\\n",
    "             h.dt()==(1-pMild)*i/tInf - h/tHosp,\\\n",
    "             r.dt()== pMild*i/tInf + (1-pFatal)*h/tHosp,\\\n",
    "             d.dt()== pFatal*h/tHosp])\n",
    "\n",
    "t = np.linspace(0, city_args['n_periods'], int(city_args['n_periods']/2+1))\n",
    "#t = np.insert(t,1,[0.001,0.002,0.004,0.008,0.02,0.04,0.08, 0.2,0.4,0.8])\n",
    "\n",
    "m.time = t\n",
    "\n",
    "# initialize with simulation\n",
    "m.options.IMODE=7\n",
    "m.options.NODES=3\n",
    "m.solve(disp=False)\n"
   ]
  },
  {
   "cell_type": "code",
   "execution_count": null,
   "metadata": {},
   "outputs": [],
   "source": [
    "max(h.value)"
   ]
  },
  {
   "cell_type": "code",
   "execution_count": null,
   "metadata": {
    "scrolled": true
   },
   "outputs": [],
   "source": [
    "# optimize\n",
    "m.options.IMODE=6\n",
    "m.options.MAX_ITER = 2000\n",
    "h.UPPER = city_args['Q']\n",
    "u.STATUS = 1\n",
    "m.options.SOLVER = 3\n",
    "m.options.TIME_SHIFT = 1\n",
    "s.value = s.value.value\n",
    "e.value = e.value.value\n",
    "i.value = i.value.value\n",
    "h.value = h.value.value\n",
    "r.value = r.value.value\n",
    "d.value = d.value.value\n",
    "m.Minimize(u)\n",
    "m.solve(disp=True)"
   ]
  },
  {
   "cell_type": "code",
   "execution_count": null,
   "metadata": {},
   "outputs": [],
   "source": [
    "# plot the optimized response\n",
    "plt.figure(figsize=(16,10))\n",
    "plt.subplot(3,1,1)\n",
    "plt.plot(m.time, s.value, color='blue', lw=3, ls='--', label='Optimal Susceptible')\n",
    "plt.plot(m.time, r.value, color='red',  lw=3, ls='--', label='Optimal Recovered')\n",
    "plt.plot(m.time, d.value, color='black',  lw=3, ls='--', label='Optimal Deceased')\n",
    "plt.ylabel('Fraction')\n",
    "plt.legend()\n",
    "\n",
    "plt.subplot(3,1,2)\n",
    "plt.plot(m.time, e.value, color='purple', ls='--', lw=3, label='Optimal Exposed')\n",
    "plt.plot(m.time, i.value, color='orange', ls='--', lw=3, label='Optimal Infected')\n",
    "plt.plot(m.time, h.value, color='dodgerblue', ls='--', lw=3, label='Optimal Hosp')\n",
    "plt.ylabel('Fraction')\n",
    "plt.legend()\n",
    "\n",
    "plt.subplot(3,1,3)\n",
    "plt.plot(m.time, u.value, 'k:', lw=3, label='Optimal (0=None, 1=No Interaction)')\n",
    "plt.ylabel('Social Distancing')\n",
    "plt.legend()\n",
    "\n",
    "plt.xlabel('Time (days)')\n",
    "\n",
    "plt.show()"
   ]
  },
  {
   "cell_type": "markdown",
   "metadata": {},
   "source": [
    "### MSEIR model"
   ]
  },
  {
   "cell_type": "code",
   "execution_count": null,
   "metadata": {},
   "outputs": [],
   "source": [
    "start = timer()\n",
    "\n",
    "model = MSEIR(**city_args)\n",
    "mseirRES = model.solve(U=0, optimize=True, solver='SLSQP', freq=1, hor=2.5, bounds=(0,0.8))[::20]\n",
    "fig0 = model.plot(mseirRES, comps='HD', size=(700,900), title='Model comparison: MSEIR vs Gekko+IPOPT')\n",
    "\n",
    "print(timer() - start)"
   ]
  },
  {
   "cell_type": "markdown",
   "metadata": {},
   "source": [
    "### Comparison"
   ]
  },
  {
   "cell_type": "code",
   "execution_count": null,
   "metadata": {},
   "outputs": [],
   "source": [
    "\n",
    "res_np = np.asarray([s,e,i,h,r,d,t,u,np.zeros(len(t)),np.zeros(len(t)),city_args['Q'] * np.ones(len(t))]).T\n",
    "df_names = ['S', 'E', 'I', 'H', 'R', 'D', 't', 'Uf', 'mInf', 'rInf', 'Q']\n",
    "gekkoRES = pd.DataFrame(res_np, columns=df_names)\n",
    "fig1 = model.plot(gekkoRES, comps='HD')\n"
   ]
  },
  {
   "cell_type": "code",
   "execution_count": null,
   "metadata": {},
   "outputs": [],
   "source": [
    "simps(mseirRES['Uf']) - simps(gekkoRES['Uf'])\n"
   ]
  },
  {
   "cell_type": "code",
   "execution_count": null,
   "metadata": {},
   "outputs": [],
   "source": [
    "fig1['data'][1]['line']['color']='dodgerblue'\n",
    "fig1['data'][3]['line']['color']='dodgerblue'\n",
    "fig1['data'][2]['line']['color']='dodgerblue'\n",
    "\n",
    "\n",
    "figF = make_subplots(rows=2, cols=1, shared_xaxes=True,\n",
    "                            horizontal_spacing=0.01,\n",
    "                            vertical_spacing=0.01,\n",
    "                            row_heights=[0.2, 0.8],\n",
    "                    )\n",
    "\n",
    "figF.add_trace(fig0['data'][1], row=1, col=1)\n",
    "figF.add_trace(fig0['data'][3], row=2, col=1)\n",
    "figF.add_trace(fig0['data'][2], row=2, col=1)\n",
    "\n",
    "\n",
    "figF.add_trace(fig1['data'][1], row=1, col=1)\n",
    "figF.add_trace(fig1['data'][3], row=2, col=1)\n",
    "figF.add_trace(fig1['data'][2], row=2, col=1)\n",
    "\n",
    "\n",
    "figF\n",
    "\n",
    "figF.update_yaxes(title_text=\"Control\", row=1, col=1, nticks=4, showgrid=False)\n",
    "figF.update_yaxes(title_text=\"Compartments\", row=2, col=1, nticks=4,showgrid=False)\n",
    "        \n",
    "figF.update_layout(height=800, width=900,\n",
    "                   title='Model comparison: MSEIR vs Gekko+IPOPT',\n",
    "                   legend_orientation=\"h\",\n",
    "                   legend={'bgcolor': 'rgba(0,0,0,0)', 'itemsizing': 'constant'},\n",
    "                   title_x=0.45, title_y=0.93)\n"
   ]
  },
  {
   "cell_type": "markdown",
   "metadata": {},
   "source": [
    "### Summary"
   ]
  },
  {
   "cell_type": "code",
   "execution_count": null,
   "metadata": {
    "scrolled": true
   },
   "outputs": [],
   "source": [
    "\n",
    "xT = pd.date_range(start = '2020-01-01',\n",
    "                   end = datetime.strptime('2020-01-01', \"%Y-%m-%d\")+timedelta(days=200),\n",
    "                   periods=730)\n",
    "\n",
    "maxI1 = (mseirRES['D'].max() + mseirRES['R'].max())\n",
    "maxI2 = (gekkoRES['D'].max() + gekkoRES['R'].max())\n",
    "\n",
    "maxD1 = mseirRES['D'].max().round(0)\n",
    "maxD2 = gekkoRES['D'].max().round(0)\n",
    "\n",
    "perD1 = mseirRES['D'].max() / (mseirRES['D'].max() + mseirRES['R'].max())\n",
    "perD2 = gekkoRES['D'].max() / (gekkoRES['D'].max() + gekkoRES['R'].max())\n",
    "\n",
    "perI1 = maxI1/mseirRES['S'].max()\n",
    "perI2 = maxI2/gekkoRES['S'].max()\n",
    "\n",
    "idx = mseirRES['Uf'].to_numpy().nonzero()[0]\n",
    "i = mseirRES['H'] - mseirRES['Q']\n",
    "min_U1 = xT[idx[-1] if idx.size > 0 else 0]\n",
    "min_Ul1 = idx.size\n",
    "area_U1 = round(simps(mseirRES['Uf']),2)\n",
    "cost_U1 = round(simps((i+abs(i))/2) + simps(mseirRES['Uf']),2)\n",
    "\n",
    "idx = gekkoRES['Uf'].to_numpy().nonzero()[0]\n",
    "i = gekkoRES['H'] - gekkoRES['Q']\n",
    "min_U2 = xT[idx[-1] if idx.size > 0 else 0].date()\n",
    "min_Ul2 = idx.size\n",
    "area_U2 = round(simps(gekkoRES['Uf']),2)\n",
    "cost_U2 = round(simps((i+abs(i))/2) + simps(gekkoRES['Uf']),2)\n",
    "\n",
    "total__ = [[area_U1, min_U1, min_Ul1, maxI1, perI1, maxD1, perD1, cost_U1],\n",
    "           [area_U2, min_U2, min_Ul2, maxI2, perI2, maxD2, perD2, cost_U2]]\n",
    "\n",
    "cols = ['Control strength', 'Control release date', 'Control duration',\n",
    "        'Total Infected', 'Total Infected (% population)', 'Total Deceased',\n",
    "       'Total Deceased (% infected)', 'Final value of cost function']\n",
    "\n",
    "table_summary = pd.DataFrame(total__, columns=cols)\n",
    "table_summary.index = ['Scenario 1', 'Scenario 2']\n",
    "table_summary.T\n",
    "\n"
   ]
  }
 ],
 "metadata": {
  "kernelspec": {
   "display_name": "Python 3",
   "language": "python",
   "name": "python3"
  },
  "language_info": {
   "codemirror_mode": {
    "name": "ipython",
    "version": 3
   },
   "file_extension": ".py",
   "mimetype": "text/x-python",
   "name": "python",
   "nbconvert_exporter": "python",
   "pygments_lexer": "ipython3",
   "version": "3.7.6"
  }
 },
 "nbformat": 4,
 "nbformat_minor": 4
}
